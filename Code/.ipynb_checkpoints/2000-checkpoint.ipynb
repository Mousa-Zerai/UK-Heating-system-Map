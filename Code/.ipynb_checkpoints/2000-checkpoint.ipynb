{
 "cells": [
  {
   "cell_type": "code",
   "execution_count": 2,
   "id": "893bfe9b-fab6-42ef-b8f2-84d61fb9d086",
   "metadata": {},
   "outputs": [
    {
     "name": "stderr",
     "output_type": "stream",
     "text": [
      "C:\\Users\\Mousa Zerai\\AppData\\Local\\Temp\\ipykernel_8548\\255699956.py:9: DtypeWarning: Columns (15,34,37) have mixed types. Specify dtype option on import or set low_memory=False.\n",
      "  data = pd.read_csv(r'C:\\Users\\Mousa Zerai\\Desktop\\Developer\\domestic-E08000006-Salford\\certificates.csv')[['POSTCODE', 'MAINHEAT_DESCRIPTION']].head(2000)\n",
      "100%|████████████████████████████████████████████████████████████████████████████████| 517/517 [22:25<00:00,  2.60s/it]\n"
     ]
    },
    {
     "name": "stdout",
     "output_type": "stream",
     "text": [
      "Map created with 388 electric heating locations from the first 2000 rows.\n"
     ]
    }
   ],
   "source": [
    "import pandas as pd\n",
    "import folium\n",
    "from geopy.geocoders import Nominatim\n",
    "from tqdm import tqdm\n",
    "import os\n",
    "import pickle\n",
    "\n",
    "# Load your dataset and limit it to the first 2000 rows\n",
    "data = pd.read_csv(r'C:\\Users\\Mousa Zerai\\Desktop\\Developer\\domestic-E08000006-Salford\\certificates.csv')[['POSTCODE', 'MAINHEAT_DESCRIPTION']].head(2000)\n",
    "\n",
    "# Filter only electrically heated houses\n",
    "electric_heating_data = data[data['MAINHEAT_DESCRIPTION'].str.contains('electric', case=False, na=False)].copy()\n",
    "\n",
    "# Initialize the geocoder\n",
    "geolocator = Nominatim(user_agent=\"geoapi\")\n",
    "\n",
    "# Path to cache file\n",
    "cache_file = 'geocode_cache.pkl'\n",
    "\n",
    "# Load the geocoded cache if it exists\n",
    "if os.path.exists(cache_file):\n",
    "    with open(cache_file, 'rb') as f:\n",
    "        geocode_cache = pickle.load(f)\n",
    "else:\n",
    "    geocode_cache = {}\n",
    "\n",
    "# Function to geocode a postcode using cache\n",
    "def geocode_postcode(postcode):\n",
    "    if postcode in geocode_cache:\n",
    "        return geocode_cache[postcode]\n",
    "    try:\n",
    "        location = geolocator.geocode(postcode)\n",
    "        if location:\n",
    "            geocode_cache[postcode] = (location.latitude, location.longitude)\n",
    "            return geocode_cache[postcode]\n",
    "        else:\n",
    "            return (None, None)\n",
    "    except:\n",
    "        return (None, None)\n",
    "\n",
    "# Apply geocoding only on unique postcodes\n",
    "unique_postcodes = electric_heating_data['POSTCODE'].unique()\n",
    "tqdm.pandas()\n",
    "electric_heating_data['Coordinates'] = electric_heating_data['POSTCODE'].progress_apply(geocode_postcode)\n",
    "\n",
    "# Cache the results\n",
    "with open(cache_file, 'wb') as f:\n",
    "    pickle.dump(geocode_cache, f)\n",
    "\n",
    "# Split the coordinates into separate columns\n",
    "electric_heating_data['Latitude'], electric_heating_data['Longitude'] = zip(*electric_heating_data['Coordinates'])\n",
    "\n",
    "# Remove rows with missing coordinates\n",
    "electric_heating_data = electric_heating_data.dropna(subset=['Latitude', 'Longitude'])\n",
    "\n",
    "# Create a base map\n",
    "mymap = folium.Map(location=[electric_heating_data['Latitude'].mean(), electric_heating_data['Longitude'].mean()], zoom_start=12)\n",
    "\n",
    "# Add markers to the map for electric heating systems\n",
    "for idx, row in electric_heating_data.iterrows():\n",
    "    folium.Marker(\n",
    "        location=[row['Latitude'], row['Longitude']],\n",
    "        popup=f\"{row['POSTCODE']} - {row['MAINHEAT_DESCRIPTION']}\",\n",
    "        icon=folium.Icon(color='blue')\n",
    "    ).add_to(mymap)\n",
    "\n",
    "# Save the map\n",
    "mymap.save('heating_systems_electric_map.html')\n",
    "\n",
    "print(f\"Map created with {len(electric_heating_data)} electric heating locations from the first 2000 rows.\")\n",
    "\n",
    "\n",
    "\n"
   ]
  },
  {
   "cell_type": "code",
   "execution_count": 3,
   "id": "557fc118-303e-4fba-9e1d-9a6938fe97ec",
   "metadata": {},
   "outputs": [
    {
     "data": {
      "text/html": [
       "\n",
       "        <iframe\n",
       "            width=\"700\"\n",
       "            height=\"500\"\n",
       "            src=\"heating_systems_electric_map.html\"\n",
       "            frameborder=\"0\"\n",
       "            allowfullscreen\n",
       "            \n",
       "        ></iframe>\n",
       "        "
      ],
      "text/plain": [
       "<IPython.lib.display.IFrame at 0x21fc21f1a30>"
      ]
     },
     "execution_count": 3,
     "metadata": {},
     "output_type": "execute_result"
    }
   ],
   "source": [
    "from IPython.display import IFrame\n",
    "\n",
    "# Display the map in the notebook\n",
    "IFrame('heating_systems_electric_map.html', width=700, height=500)\n"
   ]
  },
  {
   "cell_type": "code",
   "execution_count": null,
   "id": "cf46a3e3-4aba-4c9b-81d9-394741b03341",
   "metadata": {},
   "outputs": [],
   "source": []
  },
  {
   "cell_type": "code",
   "execution_count": null,
   "id": "a6199d6a-8b76-47ce-b636-9dfeeebc8756",
   "metadata": {},
   "outputs": [],
   "source": []
  }
 ],
 "metadata": {
  "kernelspec": {
   "display_name": "Python 3 (ipykernel)",
   "language": "python",
   "name": "python3"
  },
  "language_info": {
   "codemirror_mode": {
    "name": "ipython",
    "version": 3
   },
   "file_extension": ".py",
   "mimetype": "text/x-python",
   "name": "python",
   "nbconvert_exporter": "python",
   "pygments_lexer": "ipython3",
   "version": "3.12.5"
  }
 },
 "nbformat": 4,
 "nbformat_minor": 5
}
